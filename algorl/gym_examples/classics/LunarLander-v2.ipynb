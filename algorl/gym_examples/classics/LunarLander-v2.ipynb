{
 "cells": [
  {
   "cell_type": "code",
   "execution_count": 1,
   "id": "5f4b66f2",
   "metadata": {},
   "outputs": [],
   "source": [
    "import gym\n",
    "from pathlib import Path\n",
    "\n",
    "# !pip install Box2D\n",
    "from stable_baselines3 import DQN, PPO\n",
    "from stable_baselines3.common.evaluation import evaluate_policy\n",
    "from stable_baselines3.common.vec_env import DummyVecEnv\n",
    "from stable_baselines3.common.monitor import Monitor \n",
    "\n",
    "# Local imports\n",
    "from utils import file_exists, evaluate_model, eval_env_random_actions"
   ]
  },
  {
   "cell_type": "markdown",
   "id": "b5060453",
   "metadata": {},
   "source": [
    "# 1. Set up"
   ]
  },
  {
   "cell_type": "code",
   "execution_count": 2,
   "id": "8e69fd4e",
   "metadata": {},
   "outputs": [
    {
     "name": "stdout",
     "output_type": "stream",
     "text": [
      "Discrete(4)\n",
      "Box([-inf -inf -inf -inf -inf -inf -inf -inf], [inf inf inf inf inf inf inf inf], (8,), float32)\n"
     ]
    }
   ],
   "source": [
    "# Create folder to save models\n",
    "directory_path = 'models'\n",
    "Path(directory_path).mkdir(parents=True, exist_ok=True)\n",
    "\n",
    "# Create environment\n",
    "env_name = 'LunarLander-v2'\n",
    "env = gym.make(env_name)\n",
    "\n",
    "num_steps = 250_000\n",
    "model_file_name = Path(directory_path, env_name + '_' + str(num_steps))\n",
    "print(env.action_space)\n",
    "# 0- Do nothing\n",
    "# 1- Fire left engine\n",
    "# 2- Fire down engine\n",
    "# 3- Fire right engine\n",
    "print(env.observation_space)"
   ]
  },
  {
   "cell_type": "markdown",
   "id": "3ffc2e57",
   "metadata": {},
   "source": [
    "## 1.1 Test random actions"
   ]
  },
  {
   "cell_type": "code",
   "execution_count": 3,
   "id": "4f010369",
   "metadata": {},
   "outputs": [
    {
     "name": "stdout",
     "output_type": "stream",
     "text": [
      "Episode: 1\n",
      "\tScore: -175.5151312340881\n",
      "Episode: 2\n",
      "\tScore: -116.07473452116533\n",
      "Episode: 3\n",
      "\tScore: -45.38174852619592\n",
      "Episode: 4\n",
      "\tScore: -133.72219742010205\n",
      "Episode: 5\n",
      "\tScore: -80.77731764816896\n",
      "Episode: 6\n",
      "\tScore: -160.156771603122\n",
      "Episode: 7\n",
      "\tScore: -81.19053058611736\n",
      "Episode: 8\n",
      "\tScore: -250.1056524695289\n",
      "Episode: 9\n",
      "\tScore: -129.76576653781902\n",
      "\n",
      "\n",
      "\tMean reward: -130.29887228292307 Num episodes: 10\n"
     ]
    }
   ],
   "source": [
    "eval_env_random_actions(env, render=False)"
   ]
  },
  {
   "cell_type": "markdown",
   "id": "006c0267",
   "metadata": {},
   "source": [
    "# 2. Build and Train a model"
   ]
  },
  {
   "cell_type": "code",
   "execution_count": 4,
   "id": "4576d1df",
   "metadata": {},
   "outputs": [],
   "source": [
    "# Instantiate the agent\n",
    "env = gym.make(env_name)\n",
    "env = DummyVecEnv([lambda: env])\n",
    "model = PPO('MlpPolicy', env, verbose=0) # CNNPolicy"
   ]
  },
  {
   "cell_type": "code",
   "execution_count": 5,
   "id": "11c5772e",
   "metadata": {},
   "outputs": [
    {
     "data": {
      "text/plain": [
       "<stable_baselines3.ppo.ppo.PPO at 0x7fb5691043a0>"
      ]
     },
     "execution_count": 5,
     "metadata": {},
     "output_type": "execute_result"
    }
   ],
   "source": [
    "# Train the agent\n",
    "model.learn(total_timesteps = num_steps)\n",
    "# We want high explained_variance and "
   ]
  },
  {
   "cell_type": "markdown",
   "id": "069339e9",
   "metadata": {},
   "source": [
    "# 3 Save and reload"
   ]
  },
  {
   "cell_type": "code",
   "execution_count": 6,
   "id": "ad4d4a9d",
   "metadata": {},
   "outputs": [],
   "source": [
    "# Save the agent\n",
    "model.save(model_file_name)\n",
    "del model  # delete trained model to demonstrate loading"
   ]
  },
  {
   "cell_type": "markdown",
   "id": "d87af6f3",
   "metadata": {},
   "source": [
    "## Load the trained agent"
   ]
  },
  {
   "cell_type": "code",
   "execution_count": 7,
   "id": "51668cc2",
   "metadata": {},
   "outputs": [],
   "source": [
    "# Load the trained agent\n",
    "# NOTE: if you have loading issue, you can pass `print_system_info=True`\n",
    "# to compare the system on which the model was trained vs the current one\n",
    "# model = DQN.load(\"dqn_lunar\", env=env, print_system_info=True)\n",
    "model = PPO.load(model_file_name, env=env)"
   ]
  },
  {
   "cell_type": "markdown",
   "id": "3d6e2244",
   "metadata": {},
   "source": [
    "# 3. Evaluate"
   ]
  },
  {
   "cell_type": "code",
   "execution_count": 12,
   "id": "fc1357e2",
   "metadata": {},
   "outputs": [
    {
     "name": "stdout",
     "output_type": "stream",
     "text": [
      "mean_reward:50.98 +/- 113.14\n"
     ]
    }
   ],
   "source": [
    "# Evaluate the agent\n",
    "mean_reward, std_reward = evaluate_policy(model,  env , n_eval_episodes=10)\n",
    "print(f\"mean_reward:{mean_reward:.2f} +/- {std_reward:.2f}\")"
   ]
  },
  {
   "cell_type": "code",
   "execution_count": 11,
   "id": "9aa7f545",
   "metadata": {},
   "outputs": [],
   "source": [
    "# Enjoy trained agent\n",
    "obs = env.reset()\n",
    "for i in range(500):\n",
    "    env.render()\n",
    "    action, _states = model.predict(obs, deterministic=True)\n",
    "    obs, rewards, dones, info = env.step(action)\n",
    "env.reset()   \n",
    "env.close()"
   ]
  },
  {
   "cell_type": "code",
   "execution_count": null,
   "id": "3e23f3ff",
   "metadata": {},
   "outputs": [],
   "source": []
  },
  {
   "cell_type": "markdown",
   "id": "958af649",
   "metadata": {},
   "source": [
    "## "
   ]
  }
 ],
 "metadata": {
  "kernelspec": {
   "display_name": ".valgorl_nb",
   "language": "python",
   "name": ".valgorl"
  },
  "language_info": {
   "codemirror_mode": {
    "name": "ipython",
    "version": 3
   },
   "file_extension": ".py",
   "mimetype": "text/x-python",
   "name": "python",
   "nbconvert_exporter": "python",
   "pygments_lexer": "ipython3",
   "version": "3.8.2"
  }
 },
 "nbformat": 4,
 "nbformat_minor": 5
}
